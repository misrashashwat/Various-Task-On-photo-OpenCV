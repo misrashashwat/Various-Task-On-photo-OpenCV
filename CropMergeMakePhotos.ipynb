{
 "cells": [
  {
   "cell_type": "code",
   "execution_count": 2,
   "id": "24026a68",
   "metadata": {},
   "outputs": [],
   "source": [
    "import cv2"
   ]
  },
  {
   "cell_type": "code",
   "execution_count": 3,
   "id": "4b54513b",
   "metadata": {},
   "outputs": [],
   "source": [
    "import numpy as np"
   ]
  },
  {
   "cell_type": "code",
   "execution_count": null,
   "id": "562825b8",
   "metadata": {},
   "outputs": [],
   "source": [
    "mp =np.zeros((256,256,3))"
   ]
  },
  {
   "cell_type": "code",
   "execution_count": null,
   "id": "0a224e2e",
   "metadata": {},
   "outputs": [],
   "source": [
    "mp[40:150,20:40]= [0,255,0]"
   ]
  },
  {
   "cell_type": "code",
   "execution_count": null,
   "id": "c840c138",
   "metadata": {},
   "outputs": [],
   "source": [
    "mp[40:150,100:120]= [0,255,0]"
   ]
  },
  {
   "cell_type": "code",
   "execution_count": null,
   "id": "7f917088",
   "metadata": {},
   "outputs": [],
   "source": [
    "mp[80:100,40:100]= [0,255,0]"
   ]
  },
  {
   "cell_type": "code",
   "execution_count": null,
   "id": "87a80b12",
   "metadata": {},
   "outputs": [],
   "source": [
    "cv2.imshow('hi',mp)\n",
    "cv2.waitKey()\n",
    "cv2.destroyAllWindows()"
   ]
  },
  {
   "cell_type": "code",
   "execution_count": 4,
   "id": "606d681d",
   "metadata": {},
   "outputs": [],
   "source": [
    "p3= cv2.imread('Man-Stock-Photos.jpg')"
   ]
  },
  {
   "cell_type": "code",
   "execution_count": 5,
   "id": "ae1a3d2c",
   "metadata": {},
   "outputs": [],
   "source": [
    "p4= cv2.imread('images.jpeg')"
   ]
  },
  {
   "cell_type": "code",
   "execution_count": 6,
   "id": "cbdc1bb4",
   "metadata": {},
   "outputs": [],
   "source": [
    "cp3=p3[0:100,0:200]"
   ]
  },
  {
   "cell_type": "code",
   "execution_count": 7,
   "id": "2ee87fee",
   "metadata": {},
   "outputs": [],
   "source": [
    "cp4=p4[0:100,0:200]"
   ]
  },
  {
   "cell_type": "code",
   "execution_count": 8,
   "id": "3d998b74",
   "metadata": {},
   "outputs": [],
   "source": [
    "p3[0:100,0:200]=cp4"
   ]
  },
  {
   "cell_type": "code",
   "execution_count": 9,
   "id": "440db595",
   "metadata": {},
   "outputs": [],
   "source": [
    "p4[0:100,0:200]=cp3"
   ]
  },
  {
   "cell_type": "code",
   "execution_count": null,
   "id": "38209291",
   "metadata": {},
   "outputs": [],
   "source": [
    "cv2.imshow('hi',p4)\n",
    "cv2.waitKey()\n",
    "cv2.destroyAllWindows()"
   ]
  },
  {
   "cell_type": "code",
   "execution_count": null,
   "id": "04829416",
   "metadata": {},
   "outputs": [],
   "source": [
    "cv2.imshow('hi',p3)\n",
    "cv2.waitKey()\n",
    "cv2.destroyAllWindows()"
   ]
  },
  {
   "cell_type": "code",
   "execution_count": null,
   "id": "cc70f824",
   "metadata": {},
   "outputs": [],
   "source": [
    "p1= cv2.imread('Man-Stock-Photos.jpg')"
   ]
  },
  {
   "cell_type": "code",
   "execution_count": null,
   "id": "b3c8804d",
   "metadata": {},
   "outputs": [],
   "source": [
    "p2= cv2.imread('Man-Stock-Photos.jpg')"
   ]
  },
  {
   "cell_type": "code",
   "execution_count": null,
   "id": "df1c7827",
   "metadata": {},
   "outputs": [],
   "source": [
    "p5=cv2.hconcat([p1,p2])"
   ]
  },
  {
   "cell_type": "code",
   "execution_count": null,
   "id": "1758f950",
   "metadata": {},
   "outputs": [],
   "source": [
    "cv2.imshow('hi',p5)\n",
    "cv2.waitKey()\n",
    "cv2.destroyAllWindows()"
   ]
  },
  {
   "cell_type": "code",
   "execution_count": null,
   "id": "23497b97",
   "metadata": {},
   "outputs": [],
   "source": []
  }
 ],
 "metadata": {
  "kernelspec": {
   "display_name": "Python 3",
   "language": "python",
   "name": "python3"
  },
  "language_info": {
   "codemirror_mode": {
    "name": "ipython",
    "version": 3
   },
   "file_extension": ".py",
   "mimetype": "text/x-python",
   "name": "python",
   "nbconvert_exporter": "python",
   "pygments_lexer": "ipython3",
   "version": "3.8.8"
  }
 },
 "nbformat": 4,
 "nbformat_minor": 5
}
